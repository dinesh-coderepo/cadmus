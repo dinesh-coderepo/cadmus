{
 "cells": [
  {
   "cell_type": "markdown",
   "metadata": {},
   "source": [
    "# Vectors\n",
    "\n",
    "## Explanation\n",
    "Vectors are mathematical objects that have both magnitude and direction. They are used to represent points in space and can be added, subtracted, and scaled. Vectors are fundamental in linear algebra and are used in various machine learning algorithms.\n",
    "\n",
    "### Properties of Vectors\n",
    "- **Magnitude**: The length of the vector.\n",
    "- **Direction**: The orientation of the vector in space.\n",
    "\n",
    "### Vector Operations\n",
    "1. **Addition**: The sum of two vectors is a new vector obtained by adding the corresponding components of the original vectors.\n",
    "2. **Subtraction**: The difference between two vectors is a new vector obtained by subtracting the corresponding components of the original vectors.\n",
    "3. **Scalar Multiplication**: The product of a vector and a scalar is a new vector obtained by multiplying each component of the original vector by the scalar.\n",
    "4. **Dot Product**: The dot product of two vectors is a scalar obtained by multiplying the corresponding components of the vectors and summing the results.\n",
    "5. **Cross Product**: The cross product of two vectors is a new vector that is perpendicular to both of the original vectors.\n",
    "\n",
    "### Examples\n",
    "- **Addition**: If **u** = [1, 2] and **v** = [3, 4], then **u + v** = [4, 6].\n",
    "- **Subtraction**: If **u** = [1, 2] and **v** = [3, 4], then **u - v** = [-2, -2].\n",
    "- **Scalar Multiplication**: If **u** = [1, 2] and **c** = 3, then **c * u** = [3, 6].\n",
    "- **Dot Product**: If **u** = [1, 2] and **v** = [3, 4], then **u . v** = 1*3 + 2*4 = 11.\n",
    "- **Cross Product**: If **u** = [1, 2, 3] and **v** = [4, 5, 6], then **u x v** = [-3, 6, -3].\n",
    "\n",
    "## Practice\n",
    "For practice, refer to the [Vectors Notebook](01_vectors.ipynb).\n"
   ]
  },
  {
   "cell_type": "code",
   "execution_count": null,
   "metadata": {},
   "outputs": [],
   "source": [
    "# Vector Addition\n",
    "import numpy as np\n",
    "\n",
    "u = np.array([1, 2])\n",
    "v = np.array([3, 4])\n",
    "result = u + v\n",
    "print(\"Vector Addition:\", result)\n",
    "\n",
    "# Vector Subtraction\n",
    "result = u - v\n",
    "print(\"Vector Subtraction:\", result)\n",
    "\n",
    "# Scalar Multiplication\n",
    "c = 3\n",
    "result = c * u\n",
    "print(\"Scalar Multiplication:\", result)\n",
    "\n",
    "# Dot Product\n",
    "result = np.dot(u, v)\n",
    "print(\"Dot Product:\", result)\n",
    "\n",
    "# Cross Product\n",
    "u = np.array([1, 2, 3])\n",
    "v = np.array([4, 5, 6])\n",
    "result = np.cross(u, v)\n",
    "print(\"Cross Product:\", result)\n"
   ]
  }
 ]
}
